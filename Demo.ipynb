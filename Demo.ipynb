{
 "cells": [
  {
   "cell_type": "markdown",
   "id": "288143ab",
   "metadata": {},
   "source": [
    "# 2.155/6 Optimization Demo\n",
    "### In this demo we will demonstrate the use of both gradient-based optimization and evolutionary optimization on a linkage design problem. This notebook also serves as an introduction to the Challenge Problem 1, which will tackle a more complex linkage design problem.\n",
    "\n",
    "\n",
    "><small>License Terms:  \n",
    "These Python demos are licensed under a <a href=\"https://creativecommons.org/licenses/by-nc-nd/4.0/\">Creative Commons Attribution-NonCommercial-NoDerivatives 4.0 International License</a>. They are intended for educational use only in Class 2.155/2.156: AI and ML for Engineering Design at MIT. You may not share or distribute them publicly, use them for commercial purposes, or provide them to industry or other entities without permission from the instructor (faez@mit.edu).</small>"
   ]
  },
  {
   "cell_type": "markdown",
   "id": "5e933643",
   "metadata": {},
   "source": [
    "## Optimization: A Quick Recap\n",
    "In optimization our objective is to find the best possible solution for a given objective function. Often, however we also have some constraints that we might want to meet as well. More concretelty in general an optimization problem has three main components:\n",
    "\n",
    "- **Design Variables**, $\\mathbf x$: A set of design variables, describing the parmeters of the underlying problem. For example, imagine you are designing a bike like the ones in the visualization demo, then the design variables would be all those variables we saw describing a bike!\n",
    "- **Objective Function:**, $f(\\mathbf x)$: A function of the design variables that provides a measure of performance. Our aim to find the best $mathbf x$ that either minimizes this function or maximizes it. For example we may want the lightest possible bike. We would have to find the best possible $x$ that minimizes the weight of the box.\n",
    "- **Constraints**, $\\Omega$: Constraints are described as a set, dennoted as $\\Omega$ here, which the design variables must be inside to be considered valid. For example, in our example of minimizing the bike weight, we can just set all parmeters to 0 and deliver air 🙃, with no weight, but that would not be a bike. The point of having constraints is to find the best possible $mathbf x \\in \\Omega$ which results in a valid design, not just the design that optimized $f(\\mathbf x)$. Note that the set $\\Omega$ in many cases is describved as a set of inequality and equality constraints on functions of $\\mathbf x$, for example $g(\\mathbf x)\\leq0,\\;h(\\mathbf x)=0,\\; l\\leq\\mathbf x\\leq u,\\; \\ldots$\n",
    "\n",
    "\n",
    "Often we use the following mathematical notation to describe optimization problems:\n",
    "\n",
    "$$\n",
    "\\begin{align}\n",
    "    \\min_{\\mathbf x} &f(\\mathbf x)\\\\\n",
    "    \\text{subject to}\\quad & l\\leq \\mathbf x \\leq u\\\\\n",
    "    &h(\\mathbf x)=0\\\\\n",
    "    &g(\\mathbf x)\\leq0\\\\\n",
    "    &\\ldots\n",
    "\\end{align}\n",
    "$$\n",
    "\n",
    "More compactly:\n",
    "\n",
    "$$\n",
    "\\begin{align}\n",
    "    \\min_{\\mathbf x} &f(\\mathbf x)\\\\\n",
    "    \\text{subject to}\\quad & \\mathbf x \\in \\Omega\n",
    "\\end{align}\n",
    "$$\n",
    "\n",
    "We talked about a few different ways of how optimization can be done in practice. In this notebook we will demonstrate two approaches for optimization. First we will walk through a **gradient based optimization** approach, then we will follow that up with an application of the **genetic algorithm**."
   ]
  },
  {
   "cell_type": "markdown",
   "id": "58c5768a",
   "metadata": {},
   "source": [
    "## Let's Optimize Some Mechanisms\n",
    "\n",
    "<div width=\"100%\"><img src=\"https://i.imgur.com/69xDuZc.png\" alt=\"Path Synthesis Problem\" width=\"60%\" style=\"margin:auto;display:block\"></div>\n",
    "\n",
    "In this demonstration, we will focus on a specific problem we are solving, called the linkage synthesis problem. The goal in this problem is to design a linkage mechanism that can trace a target curve. If you remember we tried to do this manually in the first lecture for a simple case. To solve this problem we need to answer some questions: how many joint do we need?, how many linkages? which joints are linkages connecting? Which joints are fixed in space? and what are the initial posisitions of the joints(i.e. how long are the linkages)? \n",
    "\n",
    "Besides the questions above we need to make sure the mechanisms can move with only one actuator, and that the actuator can make a full rotation and does not get stuck at any point.\n",
    "\n",
    "Going back to the optimization components we have:\n",
    "\n",
    "- **Design Variables**, $\\mathbf x$: Number of joints, the types of joints (fixed or not), number of linkages, which joints linkages connect, initial positions of joints in space.\n",
    "- **Objective Function:**, $f(\\mathbf x)$: How closely the curve traced by the mechanism resembles the target curve.\n",
    "- **Constraints**, $\\Omega$: The mechanism must one degree of freedom (can be run by a single motor), the mechanism cannot lock during a full rotation of the actuator.\n",
    "\n",
    "**But how do we handle these computationally and in code?**"
   ]
  },
  {
   "cell_type": "markdown",
   "id": "5f865c41",
   "metadata": {},
   "source": [
    "### Representing Mechanisms\n",
    "In practice the optimization problem of path synthesis is quite complicated. Here we will briefly discuss how we can represent linkage mechanisms. In this demonstration we will represent linkage mechanisms as graphs. A graph is represented as a set of nodes (e.g., $N = \\{1,2,3,\\ldots,N\\}$), and set of edges, that describe how nodes are connected to each other (e.g., $E=\\{(1,2), (5,2), \\ldots \\}$). Graphs can also include features associated with each node (e.g., initial positions of joints in our example of mechanisms).\n",
    "\n",
    "To see how this works take the mechanism below:\n",
    "\n",
    "<div width=\"100%\"><img src=\"https://i.ibb.co/qsPC0gC/2021-09-13-0hl-Kleki.png\" alt=\"Path Synthesis Problem\" width=\"40%\" style=\"margin:auto;display:block\"></div>\n",
    "\n",
    "\n",
    "We can see that we have 5 joints, which we will represent as 5 node, $N=\\{0,1,2,3,4\\}$, and we can represent the linkages as edges in the graph, which give us the edges $E=\\{(0,2),(1,3),(2,3),(2,4),(3,4)\\}$. Note that edges in this graph do not have directions so $(0,2)$ and $(2,0)$ are identical we just like to keep things neat so we always left the smaller index first. Besides the basic graph describing the mechanisms structure, we also see that nodes $0$ and $1$ are fixed and the nodes are placed in 2D space in a certain way. We will describe these as node features. This means each node will have a 2D initial position and a binary feature describing whether it is fixed or not. We can also see that one of the linkages is highlighed yellow. This is the linkage that is rotated by the actuator. We will also store this information.\n",
    "\n",
    "In practice the above description boils down to a few (Design) variables in python which we use to describe the mechanism:\n",
    "\n",
    "- **Initial Positions** `x0`: A 2D array of size $N \\times 2$, holding the initial positions of the $N$ joints in the mechanism.\n",
    "- **Linkages** `edges`: A 2D array of ***integer*** pairs, with shape $E \\times 2$ holding the pairs of node indecies from two nodes that are connected to each other by an edge.\n",
    "- **Fixed Joints** `fixed_joints`: A list of node indicies that are fixed.\n",
    "- **Motoe** `motor`: A tuple of integers, which is equivalent to the pair of node indicies associated with the actuated edge.\n",
    "\n",
    "So let's try to describe the mechanism in the image above in Python and see how this works:"
   ]
  },
  {
   "cell_type": "code",
   "execution_count": 1,
   "id": "509aa064",
   "metadata": {},
   "outputs": [],
   "source": [
    "# import some modules we will need\n",
    "import os\n",
    "os.environ[\"JAX_PLATFORMS\"] = \"cpu\"  # Disable GPU for JAX\n",
    "import jax\n",
    "import numpy as np\n",
    "import matplotlib.pyplot as plt\n",
    "from LINKS.Geometry import CurveEngine\n",
    "\n",
    "# We provide some useful functions and classes for handling linkage mechanisms\n",
    "from LINKS.Visualization import MechanismVisualizer\n",
    "from LINKS.Kinematics import MechanismSolver\n",
    "from LINKS.Optimizer._OptimTools import build_optimization_functions, build_material_optimization_functions, build_scaled_optimization_functions\n",
    "from tqdm.auto import tqdm, trange"
   ]
  },
  {
   "cell_type": "markdown",
   "id": "acb72ef9",
   "metadata": {},
   "source": [
    "Now let's define our mechanism and make an instance of the visualizer we have provided you:"
   ]
  },
  {
   "cell_type": "code",
   "execution_count": 2,
   "id": "ce984c9b",
   "metadata": {},
   "outputs": [],
   "source": [
    "# make an instance of the visualizer\n",
    "visualizer = MechanismVisualizer()\n",
    "\n",
    "# Define the variables for the mechanism\n",
    "x0 = np.array([[0.3,0.2],\n",
    "               [0.6,0.2],\n",
    "               [0.3,0.3],\n",
    "               [0.6,0.4],\n",
    "               [0.4,0.5]])\n",
    "\n",
    "# Define the connectivity of the mechanism\n",
    "edges = np.array([[0,2],\n",
    "                  [1,3],\n",
    "                  [2,3],\n",
    "                  [2,4],\n",
    "                  [3,4]])\n",
    "\n",
    "# Define the fixed nodes\n",
    "fixed_joints = np.array([0,1])\n",
    "\n",
    "# actuator\n",
    "motor = np.array([0,2])"
   ]
  },
  {
   "cell_type": "markdown",
   "id": "7a4771c8",
   "metadata": {},
   "source": [
    "Now we can visualize this mechanism:"
   ]
  },
  {
   "cell_type": "code",
   "execution_count": 7,
   "id": "5aad828c",
   "metadata": {},
   "outputs": [
    {
     "data": {
      "text/plain": [
       "<Axes: >"
      ]
     },
     "execution_count": 7,
     "metadata": {},
     "output_type": "execute_result"
    },
    {
     "data": {
      "image/png": "[encoded data removed]",
      "text/plain": [
       "<Figure size 1000x1000 with 1 Axes>"
      ]
     },
     "metadata": {},
     "output_type": "display_data"
    }
   ],
   "source": [
    "visualizer(x0, edges, fixed_joints, motor)"
   ]
  },
  {
   "cell_type": "markdown",
   "id": "82d0776c",
   "metadata": {},
   "source": [
    "### The Objective Function\n",
    "Now that we have figured out the design variables, we will move on to the objective function. The objective here is to match a target curve. Comparing two curves is it's own can of worms and involves a whole bunch of theory and geometry. For now we will provide function that take care of aligning curves and measuring the difference between two curves. \n",
    "\n",
    "Our goal is to optimize a mechanism to produce the curve we have provided below:"
   ]
  },
  {
   "cell_type": "code",
   "execution_count": 8,
   "id": "3799f762",
   "metadata": {},
   "outputs": [
    {
     "data": {
      "text/plain": [
       "(np.float64(-0.9539660900831223),\n",
       " np.float64(1.0731105893850326),\n",
       " np.float64(-1.2513642966747285),\n",
       " np.float64(1.1959728658199311))"
      ]
     },
     "execution_count": 8,
     "metadata": {},
     "output_type": "execute_result"
    },
    {
     "data": {
      "image/png": "[encoded data removed]",
      "text/plain": [
       "<Figure size 500x300 with 1 Axes>"
      ]
     },
     "metadata": {},
     "output_type": "display_data"
    }
   ],
   "source": [
    "# load the target curve\n",
    "target_curve = np.load('SampleCurves/samples.npy')[37]\n",
    "\n",
    "plt.figure(figsize=(5,3))\n",
    "plt.plot(target_curve[:,0], target_curve[:,1])\n",
    "plt.title('Target Curve')\n",
    "plt.axis('equal')\n",
    "plt.axis('off')"
   ]
  },
  {
   "cell_type": "markdown",
   "id": "658aa496",
   "metadata": {},
   "source": [
    "Now let's see how well the curve produced by our mechanism matches this curve:"
   ]
  },
  {
   "cell_type": "code",
   "execution_count": 9,
   "id": "fc96f8e2",
   "metadata": {},
   "outputs": [],
   "source": [
    " #make an  instance of the solver to get the mechanims curves\n",
    "solver = MechanismSolver()"
   ]
  },
  {
   "cell_type": "code",
   "execution_count": 10,
   "id": "6c99bca4",
   "metadata": {},
   "outputs": [
    {
     "data": {
      "text/plain": [
       "(np.float64(0.22673571184277536),\n",
       " np.float64(0.4723212860524654),\n",
       " np.float64(0.31068813502788545),\n",
       " np.float64(0.5090121656656266))"
      ]
     },
     "execution_count": 10,
     "metadata": {},
     "output_type": "execute_result"
    },
    {
     "data": {
      "image/png": "[encoded data removed]",
      "text/plain": [
       "<Figure size 500x300 with 1 Axes>"
      ]
     },
     "metadata": {},
     "output_type": "display_data"
    }
   ],
   "source": [
    "# solve and get the coupler curve from node 4\n",
    "curve = solver(x0, edges, fixed_joints, motor)[-1]\n",
    "\n",
    "plt.figure(figsize=(5,3))\n",
    "plt.plot(curve[:,0], curve[:,1])\n",
    "plt.title('Traced Curve')\n",
    "plt.axis('equal')\n",
    "plt.axis('off')"
   ]
  },
  {
   "cell_type": "markdown",
   "id": "465f21cf",
   "metadata": {},
   "source": [
    "These two curves are not aligned with each other properly. So we first have to align them to be able to measure their difference. We provide a function called `align` which does this."
   ]
  },
  {
   "cell_type": "code",
   "execution_count": 11,
   "id": "416d6b7f",
   "metadata": {},
   "outputs": [],
   "source": [
    "# make an instance of the CurveEngine\n",
    "geomety_engine = CurveEngine(resolution=200, equisample=True, normalize_scale=True, device='cpu')"
   ]
  },
  {
   "cell_type": "code",
   "execution_count": 13,
   "id": "0d223f5f",
   "metadata": {},
   "outputs": [
    {
     "name": "stdout",
     "output_type": "stream",
     "text": [
      "Distance between curves: 1.4997\n"
     ]
    }
   ],
   "source": [
    "# align and measure the distance between the two curves\n",
    "# aligned_curve, aligned_target_curve, distance = align(curve, target_curve)\n",
    "aligned_curve, aligned_target_curve, distance = geomety_engine.optimal_alignment(curve, target_curve)\n",
    "\n",
    "print(f'Distance between curves: {distance:.4f}')"
   ]
  },
  {
   "cell_type": "code",
   "execution_count": 14,
   "id": "04dff9c9",
   "metadata": {},
   "outputs": [
    {
     "data": {
      "image/png": "[encoded data removed]",
      "text/plain": [
       "<Figure size 1000x300 with 2 Axes>"
      ]
     },
     "metadata": {},
     "output_type": "display_data"
    }
   ],
   "source": [
    "plt.figure(figsize=(10,3))\n",
    "plt.subplot(1,2,1)\n",
    "plt.plot(curve[:,0], curve[:,1], label='Initial')\n",
    "plt.plot(target_curve[:,0], target_curve[:,1], label='Target')\n",
    "plt.title('Before Alignment')\n",
    "plt.axis('equal')\n",
    "plt.axis('off')\n",
    "plt.legend()\n",
    "\n",
    "plt.subplot(1,2,2)\n",
    "plt.plot(aligned_curve[:,0], aligned_curve[:,1], label='Aligned')\n",
    "plt.plot(aligned_target_curve[:,0], aligned_target_curve[:,1], label='Target')\n",
    "plt.title('After Alignment')\n",
    "plt.axis('equal')\n",
    "plt.axis('off')\n",
    "plt.legend()\n",
    "plt.show()"
   ]
  },
  {
   "cell_type": "markdown",
   "id": "0af7e379",
   "metadata": {},
   "source": [
    "## Gradient-Based Optimization\n",
    "Now that we have the basics of the problem figured out let's actually do some optimization. To keep things simple in this demo we will not try to generate whole mechanisms. Instead we will just use the mechanism we defined above and only optimize the initial positions of the joints.\n",
    "\n",
    "To do this we provide a function to create a function that returns both the difference between curves and the gradient of the initial positions with respect to this distance. This function is conviniently called `build_optimization_functions`. It returns a function which takes initial positions and gives us the value of the objective function and the gradients of the objective with respect to theses positions."
   ]
  },
  {
   "cell_type": "code",
   "execution_count": null,
   "id": "76d63a0c",
   "metadata": {},
   "outputs": [],
   "source": [
    "obj_and_grad = build_optimization_functions(\n",
    "    x0,\n",
    "    edges,\n",
    "    fixed_joints,\n",
    "    motor,\n",
    "    target_curve\n",
    ")"
   ]
  },
  {
   "cell_type": "markdown",
   "id": "65653630",
   "metadata": {},
   "source": [
    "Now let's run this function with our current initial posisions and see what the output is like:"
   ]
  },
  {
   "cell_type": "code",
   "execution_count": null,
   "id": "b7481425",
   "metadata": {},
   "outputs": [],
   "source": [
    "objective, gradients = obj_and_grad(x0)\n",
    "\n",
    "print(f'Objective: {objective:.4f}')\n",
    "print(f'Gradients:\\n{gradients}')"
   ]
  },
  {
   "cell_type": "markdown",
   "id": "64afef30",
   "metadata": {},
   "source": [
    "Now we can just perform a simple gradient decent for this mechanism until either convergence or until we see the mechanism lock. If the optimization takes a step that leads to a locking mechanism the objective function will become inifinity and we will stop the optimization loop:"
   ]
  },
  {
   "cell_type": "code",
   "execution_count": null,
   "id": "ee93cdf6",
   "metadata": {},
   "outputs": [],
   "source": [
    "# set the optimization parameters\n",
    "step_size = 1e-4\n",
    "max_iters = 200\n",
    "\n",
    "x = x0.copy()\n",
    "objective_history = []\n",
    "x_history = []\n",
    "\n",
    "progress_bar = trange(max_iters)\n",
    "for step in progress_bar:\n",
    "    objective, gradients = obj_and_grad(x)\n",
    "    \n",
    "    if np.isinf(objective) or np.any(np.isnan(gradients)):\n",
    "        print('Mechanism locked. Stopping optimization.')\n",
    "        x = x_history[-1]\n",
    "        x_history.pop()\n",
    "        objective_history.pop()\n",
    "        break\n",
    "    \n",
    "    objective_history.append(objective)\n",
    "    x_history.append(x.copy())\n",
    "    \n",
    "    x -= step_size * gradients\n",
    "\n",
    "    progress_bar.set_postfix({'Objective': objective})"
   ]
  },
  {
   "cell_type": "markdown",
   "id": "7ce3d441",
   "metadata": {},
   "source": [
    "We see that the objective function is much smaller at the end of this optimization. Let's visualize the mechanism and compare the curves:"
   ]
  },
  {
   "cell_type": "code",
   "execution_count": null,
   "id": "5470405f",
   "metadata": {},
   "outputs": [],
   "source": [
    "# animate the evolution of the mechanism\n",
    "from matplotlib import animation\n",
    "from IPython.display import HTML\n",
    "\n",
    "# animate the evolution of the mechanism\n",
    "fig, ax = plt.subplots(figsize=(5,5))\n",
    "ax.axis('equal')\n",
    "ax.axis('off')\n",
    "\n",
    "def update(frame):\n",
    "    ax.clear()\n",
    "    ax.axis('equal')\n",
    "    ax.axis('off')\n",
    "    visualizer(x_history[frame], edges, fixed_joints, motor, ax=ax)\n",
    "    ax.set_title(f'Iteration {frame+1}/{len(x_history)}, Objective: {objective_history[frame]:.4f}')\n",
    "\n",
    "ani = animation.FuncAnimation(fig, update, frames=len(x_history), interval=200)\n",
    "plt.close(fig)\n",
    "HTML(ani.to_jshtml(fps=25, default_mode='once'))"
   ]
  },
  {
   "cell_type": "markdown",
   "id": "20ca55b3",
   "metadata": {},
   "source": [
    "Now let's plot how the objective function changed with optimization:"
   ]
  },
  {
   "cell_type": "code",
   "execution_count": null,
   "id": "7fe51634",
   "metadata": {},
   "outputs": [],
   "source": [
    "plt.figure(figsize=(6,4))\n",
    "plt.plot(objective_history)\n",
    "plt.yscale('log')\n",
    "plt.xlabel('Iteration')\n",
    "plt.ylabel('Objective Function (log scale)')\n",
    "plt.title('Objective Function History')\n",
    "plt.grid()\n",
    "plt.show()"
   ]
  },
  {
   "cell_type": "code",
   "execution_count": null,
   "id": "a48d0a77",
   "metadata": {},
   "outputs": [],
   "source": [
    "initial_curve = solver(x0, edges, fixed_joints, motor)[-1]\n",
    "optimized_curve = solver(x, edges, fixed_joints, motor)[-1]\n",
    "\n",
    "aligned_curve, aligned_target_curve, distance = align(curve, target_curve)\n",
    "aligned_optimized_curve, aligned_target_curve_optimiz, optimized_distance = align(optimized_curve, target_curve)\n",
    "\n",
    "print(f'Initial Distance between curves: {distance:.4f}')\n",
    "print(f'Optimized Distance between curves: {optimized_distance:.4f}')\n",
    "\n",
    "plt.figure(figsize=(10,3))\n",
    "plt.subplot(1,2,1)\n",
    "plt.plot(aligned_curve[:,0], aligned_curve[:,1], label='Initial')\n",
    "plt.plot(aligned_target_curve[:,0], aligned_target_curve[:,1], label='Target')\n",
    "plt.title('Before Optimization')\n",
    "plt.axis('equal')\n",
    "plt.axis('off')\n",
    "plt.legend()\n",
    "\n",
    "plt.subplot(1,2,2)\n",
    "plt.plot(aligned_optimized_curve[:,0], aligned_optimized_curve[:,1], label='Optimized')\n",
    "plt.plot(aligned_target_curve_optimiz[:,0], aligned_target_curve_optimiz[:,1], label='Target')\n",
    "plt.title('After Optimization')\n",
    "plt.axis('equal')\n",
    "plt.axis('off')\n",
    "plt.legend()\n",
    "plt.show()"
   ]
  },
  {
   "cell_type": "markdown",
   "id": "2156279b",
   "metadata": {},
   "source": [
    "We can see that the curves are more similar to each other after optimization but this is a hard problem and from that starting point this is where the optimization takes us."
   ]
  },
  {
   "cell_type": "markdown",
   "id": "c79554e3",
   "metadata": {},
   "source": [
    "## Genetic Algorithm\n",
    "We saw how if we have a starting point for our mechanism we can run a local gradient based optimization to try to match our target curve. But what if we did not know what initial point is better. Also what if we have multiple objectives. Another approach for optimization we discussed in class was genetic algorithms. In this part of the demo we will run the NSGA-II algorithm for the same problem with an added objective. We will now also try to minimize the total material used in the linkage mechanism. That is we want to use the least possible amount of material (total length of linkages) while also matching our target curve."
   ]
  },
  {
   "cell_type": "markdown",
   "id": "4ed088b7",
   "metadata": {},
   "source": [
    "### Single Objective Case\n",
    "First let's just do what we did with gradient-based optimization using GA.\n",
    "\n",
    "We will use the pymoo implementation of the NSGA-II algorithm. To use pymoo we must first define the problem within pymoo. There are several things to note about this problem. First, we have to set the number of parameters which in this case are the $x,y$ positions of the 5 nodes (2x5=10 parameters). The other part of the problem is the number of objectives. In this first case we just have to look at the distance between the traced curve and the target so we have only on objective. The last thing is to set the lower and upper bound for the parameters, which will be 0.0 and 2.0 respectively."
   ]
  },
  {
   "cell_type": "code",
   "execution_count": null,
   "id": "18a40073",
   "metadata": {},
   "outputs": [],
   "source": [
    "# pymoo imports\n",
    "from pymoo.core.problem import ElementwiseProblem\n",
    "from pymoo.algorithms.moo.nsga2 import NSGA2\n",
    "from pymoo.operators.sampling.rnd import FloatRandomSampling\n",
    "from pymoo.operators.crossover.sbx import SBX\n",
    "from pymoo.operators.mutation.pm import PolynomialMutation\n",
    "from pymoo.optimize import minimize"
   ]
  },
  {
   "cell_type": "markdown",
   "id": "2dd661c9",
   "metadata": {},
   "source": [
    "First we define the problem in pymoo:"
   ]
  },
  {
   "cell_type": "code",
   "execution_count": null,
   "id": "aebdfb9d",
   "metadata": {},
   "outputs": [],
   "source": [
    "class mechanism_optimization(ElementwiseProblem):\n",
    "\n",
    "    # When intializing get the mechanism structure which is being optimized\n",
    "    #(not the initial positions as we are trying to find those)\n",
    "    def __init__(self, x0, edges, fixed_joints, motor, target_curve):\n",
    "\n",
    "        # set the problem paramters(n_var = number of parameters(number of nodes * 2),\n",
    "        # n_obj=number of objectives, xl=lower bound for the parameters, xu=upper bound for the paramters)\n",
    "        super().__init__(n_var = x0.shape[0] * 2, n_obj=1, xl=0.0, xu=2.0, elementwise_evaluation=True)\n",
    "\n",
    "        # Store mechanism information for later\n",
    "        self.x0 = x0\n",
    "        self.edges = edges\n",
    "        self.fixed_joints = fixed_joints\n",
    "        self.motor = motor\n",
    "        self.N = x0.shape[0]\n",
    "\n",
    "        # Store the target curve point cloud\n",
    "        self.tpc = target_curve\n",
    "        \n",
    "        # setup the evaluation function\n",
    "        self.obj_and_grad = build_optimization_functions(\n",
    "            self.x0,\n",
    "            self.edges,\n",
    "            self.fixed_joints,\n",
    "            self.motor,\n",
    "            self.tpc\n",
    "        )\n",
    "\n",
    "\n",
    "    def _evaluate(self, x, out, *args, **kwargs):\n",
    "        x0 = np.array(x.reshape([self.N,2]))  #reshape the flattened vector that comes in into 2D array\n",
    "        \n",
    "        # Simulate\n",
    "        obj, grad = self.obj_and_grad(x0)\n",
    "        out[\"F\"] = obj"
   ]
  },
  {
   "cell_type": "markdown",
   "id": "4f183c77",
   "metadata": {},
   "source": [
    "Now we will setup the parameters for NSGA-II:"
   ]
  },
  {
   "cell_type": "code",
   "execution_count": null,
   "id": "531a091b",
   "metadata": {},
   "outputs": [],
   "source": [
    "# Setup an instance of our problem\n",
    "problem = mechanism_optimization(x0, edges, fixed_joints, motor, target_curve)\n",
    "\n",
    "# Setup the algorithm\n",
    "algorithm = NSGA2(pop_size=32,\n",
    "                  sampling=FloatRandomSampling(),\n",
    "                  crossover=SBX(prob=1.0, eta=3.0),\n",
    "                  mutation=PolynomialMutation(eta=3.0, prob=0.05),\n",
    "                  eliminate_duplicates=True)"
   ]
  },
  {
   "cell_type": "markdown",
   "id": "b9969260",
   "metadata": {},
   "source": [
    "Now let's run NSGA-II:"
   ]
  },
  {
   "cell_type": "code",
   "execution_count": null,
   "id": "33de69b8",
   "metadata": {},
   "outputs": [],
   "source": [
    "results = minimize(problem,\n",
    "                   algorithm,\n",
    "                   ('n_gen', 50),\n",
    "                   verbose=True,\n",
    "                   save_history=True,\n",
    "                   seed=3)"
   ]
  },
  {
   "cell_type": "markdown",
   "id": "5b158eda",
   "metadata": {},
   "source": [
    "We will now visualize the populations in each generation by only displaying the the nodes in different colors:"
   ]
  },
  {
   "cell_type": "code",
   "execution_count": null,
   "id": "765da617",
   "metadata": {},
   "outputs": [],
   "source": [
    "fig, ax = plt.subplots(figsize=(5,5))\n",
    "def animate(i):\n",
    "    plt.clf()\n",
    "    population = results.history[i].pop.get(\"X\")\n",
    "    for m in population:\n",
    "        inits = np.reshape(m,[-1,2])\n",
    "        plt.scatter(inits[:,0],inits[:,1])\n",
    "    plt.axis('equal')\n",
    "    plt.title(f'Generation {i+1}/{len(results.history)}')\n",
    "\n",
    "\n",
    "ani = animation.FuncAnimation(fig, animate, frames=50)\n",
    "\n",
    "HTML(ani.to_jshtml(fps=5, default_mode='once'))"
   ]
  },
  {
   "cell_type": "markdown",
   "id": "33e2cff7",
   "metadata": {},
   "source": [
    "Note that the population is initially diverse and as the genetic algorithm progresses the population becomes more and more uniform and at the end it is almost all the same. This is typical in algorithms with high selectivity of superior performing memebers of the population."
   ]
  },
  {
   "cell_type": "markdown",
   "id": "aa24b3ee",
   "metadata": {},
   "source": [
    "Now let's grab the best solution found and visualize it:"
   ]
  },
  {
   "cell_type": "code",
   "execution_count": null,
   "id": "04519fa6",
   "metadata": {},
   "outputs": [],
   "source": [
    "if results.X.ndim >1:\n",
    "    best_x0 = results.X[0].reshape(-1,2)\n",
    "else:\n",
    "    best_x0 = results.X.reshape(-1,2)"
   ]
  },
  {
   "cell_type": "code",
   "execution_count": null,
   "id": "31ad2ba4",
   "metadata": {},
   "outputs": [],
   "source": [
    "visualizer(best_x0, edges, fixed_joints, motor)"
   ]
  },
  {
   "cell_type": "code",
   "execution_count": null,
   "id": "0078cce8",
   "metadata": {},
   "outputs": [],
   "source": [
    "initial_curve = solver(x0, edges, fixed_joints, motor)[-1]\n",
    "optimized_curve = solver(best_x0, edges, fixed_joints, motor)[-1]\n",
    "\n",
    "aligned_curve, aligned_target_curve, distance = align(curve, target_curve)\n",
    "aligned_optimized_curve, aligned_target_curve_optimiz, optimized_distance = align(optimized_curve, target_curve)\n",
    "\n",
    "print(f'Initial Distance between curves: {distance:.4f}')\n",
    "print(f'Optimized Distance between curves: {optimized_distance:.4f}')\n",
    "\n",
    "plt.figure(figsize=(10,3))\n",
    "plt.subplot(1,2,1)\n",
    "plt.plot(aligned_curve[:,0], aligned_curve[:,1], label='Initial')\n",
    "plt.plot(aligned_target_curve[:,0], aligned_target_curve[:,1], label='Target')\n",
    "plt.title('Before Optimization')\n",
    "plt.axis('equal')\n",
    "plt.axis('off')\n",
    "plt.legend()\n",
    "\n",
    "plt.subplot(1,2,2)\n",
    "plt.plot(aligned_optimized_curve[:,0], aligned_optimized_curve[:,1], label='Optimized')\n",
    "plt.plot(aligned_target_curve_optimiz[:,0], aligned_target_curve_optimiz[:,1], label='Target')\n",
    "plt.title('After Optimization')\n",
    "plt.axis('equal')\n",
    "plt.axis('off')\n",
    "plt.legend()\n",
    "plt.show()"
   ]
  },
  {
   "cell_type": "markdown",
   "id": "d7b0a3a8",
   "metadata": {},
   "source": [
    "We see that because genetic algorithm mutates the mechanism and randomly changes the configuration it can get out of a local feasible region and find a better feasible solution."
   ]
  },
  {
   "cell_type": "markdown",
   "id": "65186348",
   "metadata": {},
   "source": [
    "**Reflection 1: Start gradient based optimization from the solution the GA provided. Does gradient-based optimization improve the GA solution? If so by how much? [write your code below and explain what the code is doing exactly] (30s)**\n",
    "\n",
    "NOTE: You must be able to acheive an objective value of atleast 0.18. You will have to make some changes to the original gradient decent to do this."
   ]
  },
  {
   "cell_type": "code",
   "execution_count": null,
   "id": "6fba285c",
   "metadata": {},
   "outputs": [],
   "source": [
    "## YOUR CODE HERE\n",
    "## HINT: Use the code we gave you for gradient based optimization and start from best_x0. Adjust step size and number of iterations and see what happens.\n"
   ]
  },
  {
   "cell_type": "markdown",
   "id": "bbb5ef80",
   "metadata": {},
   "source": [
    "### Multi-Objective Case\n",
    "Now let's incorporate the material requirements into the problem and final optimal solutions that balance the two objectives. We will do the same thing as before, except now we will have two objective functions. For the material objective function we provide a function called `build_material_optimization_functions`, which will make a function similar to the one for comparing curves. But now that we are brining material use into play we will also dictate a scale to the curve matching objective (otherwise the best mechanism can be scaled to near zero to minimize material used), while is available with `build_scaled_optimization_functions`."
   ]
  },
  {
   "cell_type": "markdown",
   "id": "982a5ca7",
   "metadata": {},
   "source": [
    "Let's define this new problem now:"
   ]
  },
  {
   "cell_type": "code",
   "execution_count": null,
   "id": "aaff61c9",
   "metadata": {},
   "outputs": [],
   "source": [
    "class multi_objective_mechanism_optimization(ElementwiseProblem):\n",
    "\n",
    "    # When intializing get the mechanism structure which is being optimized\n",
    "    #(not the initial positions as we are trying to find those)\n",
    "    def __init__(self, x0, edges, fixed_joints, motor, target_curve, scale=0.5):\n",
    "\n",
    "        # set the problem paramters(n_var = number of parameters(number of nodes * 2),\n",
    "        # n_obj=number of objectives, xl=lower bound for the parameters, xu=upper bound for the paramters)\n",
    "        super().__init__(n_var = x0.shape[0] * 2, n_obj=2, xl=0.0, xu=2.0, elementwise_evaluation=True)\n",
    "\n",
    "        # Store mechanism information for later\n",
    "        self.x0 = x0\n",
    "        self.edges = edges\n",
    "        self.fixed_joints = fixed_joints\n",
    "        self.motor = motor\n",
    "        self.N = x0.shape[0]\n",
    "\n",
    "        # Store the target curve point cloud\n",
    "        self.tpc = target_curve\n",
    "        \n",
    "        # setup the evaluation function (we use a default 0.5 scale factor)\n",
    "        self.obj_and_grad = build_scaled_optimization_functions(\n",
    "            self.x0,\n",
    "            self.edges,\n",
    "            self.fixed_joints,\n",
    "            self.motor,\n",
    "            self.tpc,\n",
    "            scale\n",
    "        )\n",
    "        \n",
    "        self.material_obj_and_grad = build_material_optimization_functions(edges)\n",
    "\n",
    "\n",
    "    def _evaluate(self, x, out, *args, **kwargs):\n",
    "        x0 = np.array(x.reshape([self.N,2]))  #reshape the flattened vector that comes in into 2D array\n",
    "        \n",
    "        # Simulate\n",
    "        obj, grad = self.obj_and_grad(x0)\n",
    "        mat_obj, mat_grad = self.material_obj_and_grad(x0)\n",
    "        \n",
    "        # if the mechanism is invalid set the objectives to infinity\n",
    "        if np.isinf(obj):\n",
    "            mat_obj = np.inf\n",
    "        \n",
    "        out[\"F\"] = obj, mat_obj"
   ]
  },
  {
   "cell_type": "markdown",
   "id": "6ccb4e52",
   "metadata": {},
   "source": [
    "Setup NSGA-II:"
   ]
  },
  {
   "cell_type": "code",
   "execution_count": null,
   "id": "f199045f",
   "metadata": {},
   "outputs": [],
   "source": [
    "# Setup an instance of our problem\n",
    "problem = multi_objective_mechanism_optimization(x0, edges, fixed_joints, motor, target_curve)\n",
    "\n",
    "# Setup the algorithm\n",
    "algorithm = NSGA2(pop_size=32,\n",
    "                  sampling=FloatRandomSampling(),\n",
    "                  crossover=SBX(prob=1.0, eta=3.0),\n",
    "                  mutation=PolynomialMutation(eta=3.0, prob=0.05),\n",
    "                  eliminate_duplicates=True)"
   ]
  },
  {
   "cell_type": "markdown",
   "id": "ff8138d7",
   "metadata": {},
   "source": [
    "run NSGA-II:"
   ]
  },
  {
   "cell_type": "code",
   "execution_count": null,
   "id": "a3c9c79e",
   "metadata": {},
   "outputs": [],
   "source": [
    "results = minimize(problem,\n",
    "                   algorithm,\n",
    "                   ('n_gen', 50),\n",
    "                   verbose=True,\n",
    "                   save_history=True,\n",
    "                   seed=0)"
   ]
  },
  {
   "cell_type": "markdown",
   "id": "4e65bb1d",
   "metadata": {},
   "source": [
    "Let's visualize the populations as we did before and see how things are different here:"
   ]
  },
  {
   "cell_type": "code",
   "execution_count": null,
   "id": "3084c431",
   "metadata": {},
   "outputs": [],
   "source": [
    "fig, ax = plt.subplots(figsize=(5,5))\n",
    "def animate(i):\n",
    "    plt.clf()\n",
    "    population = results.history[i].pop.get(\"X\")\n",
    "    for m in population:\n",
    "        inits = np.reshape(m,[-1,2])\n",
    "        plt.scatter(inits[:,0],inits[:,1])\n",
    "    plt.axis('equal')\n",
    "    plt.title(f'Generation {i+1}/{len(results.history)}')\n",
    "\n",
    "\n",
    "ani = animation.FuncAnimation(fig, animate, frames=50)\n",
    "\n",
    "HTML(ani.to_jshtml(fps=5, default_mode='once'))"
   ]
  },
  {
   "cell_type": "markdown",
   "id": "f72c062e",
   "metadata": {},
   "source": [
    "Ok, the popluation is becoming less diverse as we go but unlike the single objective case the diversity is higher at the end. This is because the optimizer is keeping members of the population that balance two different objectives. This means some are better at matching the curve while others use less material. \n",
    "\n",
    "But how do we assess a popluation when we have two objectives? The answer is by looking at the **Pareto Frontier** and **HyperVolume**.\n",
    "\n",
    "To understand these concepts better, let's animate how the memebers of the population perform with respect to both objective functions:"
   ]
  },
  {
   "cell_type": "code",
   "execution_count": null,
   "id": "46ee6158",
   "metadata": {},
   "outputs": [],
   "source": [
    "fig, ax = plt.subplots(figsize=(5,5))\n",
    "plt.xlabel('Material Use')\n",
    "plt.ylabel('Curve Distance')\n",
    "def animate(i):\n",
    "    plt.clf()\n",
    "    plt.scatter(results.history[i].pop.get('F')[:,1],results.history[i].pop.get('F')[:,0])\n",
    "    plt.xlabel('Material Use')\n",
    "    plt.ylabel('Curve Distance')\n",
    "\n",
    "\n",
    "ani = animation.FuncAnimation(fig, animate, frames=50)\n",
    "\n",
    "HTML(ani.to_jshtml(fps=5, default_mode='once'))"
   ]
  },
  {
   "cell_type": "markdown",
   "id": "3b67ef60",
   "metadata": {},
   "source": [
    "Do you notice how the popluation starts to form a boundary at the left and botton of the plot. This is because the optimizer is keeping members which have the best balance of the two objectives. This is the idea of a Pareto Frontier. Pymoo automatically holds on to the best solutions during optimization (i.e. the Pareto Optimal Solution). Let's visualize this Pareto Front:"
   ]
  },
  {
   "cell_type": "code",
   "execution_count": null,
   "id": "7a2d6f72",
   "metadata": {},
   "outputs": [],
   "source": [
    "plt.scatter(results.F[:,1],results.F[:,0],s=10)\n",
    "plt.xlabel('Material Use')\n",
    "plt.ylabel('Curve Distance')"
   ]
  },
  {
   "cell_type": "markdown",
   "id": "695259fd",
   "metadata": {},
   "source": [
    "As expected the higher the accuracy (lower distance) the more material is used. To measure how well a popluation of solutions is doing in multi-objective optimization scenarios we look at **Hyper Volume**. To calculate hypervolume here we set a reference point for the worst case at a point of distance 4.0 and material use equal to 6.0 and measure the area of the front from here. To better understand what this means look at the figure below:"
   ]
  },
  {
   "cell_type": "code",
   "execution_count": null,
   "id": "8763b9fd",
   "metadata": {},
   "outputs": [],
   "source": [
    "from pymoo.indicators.hv import HV\n",
    "\n",
    "F = results.F\n",
    "filter = np.logical_and(F[:,0]<4.0, F[:,1]<6.0)\n",
    "F = F[filter, :]\n",
    "\n",
    "def plot_HV(F, ref): #This function just plots hypervolume - dont worry about it\n",
    "    plt.scatter(F[:,1],F[:,0])\n",
    "    plt.scatter(ref[0],ref[1],color=\"red\")\n",
    "    plt.xlabel('Material Use')\n",
    "    plt.ylabel('Distance')\n",
    "    sorted_performance = F[np.argsort(F[:,1])]\n",
    "    sorted_performance = np.concatenate([sorted_performance,[[4.0,6.0]]])\n",
    "    inner_corners = np.stack([sorted_performance[:,0], np.roll(sorted_performance[:,1], -1)]).T\n",
    "    final = np.empty((sorted_performance.shape[0]*2, 2))\n",
    "    final[::2,:] = sorted_performance\n",
    "    final[1::2,:] = inner_corners\n",
    "    plt.fill(final[:,1],final[:,0],color=\"#008cff\",alpha=0.2)\n",
    "\n",
    "\n",
    "ref_point = np.array([4.0, 6.0])\n",
    "ind = HV(ref_point)\n",
    "HV = ind(F)\n",
    "\n",
    "print('Hyper Volume ~ %f' %(HV))\n",
    "\n",
    "plot_HV(F, [6.0, 4.0])"
   ]
  },
  {
   "cell_type": "markdown",
   "id": "7dbe4970",
   "metadata": {},
   "source": [
    "Picking the best solution would be dependant on the problem and application but for now let's visualize the solution with the lowest curve distance (thinking of it as the single objective problem we had before). Now let's see the best solution(s) the algorithm came up with:"
   ]
  },
  {
   "cell_type": "code",
   "execution_count": null,
   "id": "2cbb6f09",
   "metadata": {},
   "outputs": [],
   "source": [
    "if results.X.ndim >1:\n",
    "    best_x0 = results.X[np.argmin(results.F[:,0])].reshape(-1,2)\n",
    "else:\n",
    "    best_x0 = results.X.reshape(-1,2)\n",
    "    \n",
    "visualizer(best_x0, edges, fixed_joints, motor)\n",
    "\n",
    "initial_curve = solver(x0, edges, fixed_joints, motor)[-1]\n",
    "optimized_curve = solver(best_x0, edges, fixed_joints, motor)[-1]\n",
    "\n",
    "aligned_curve, aligned_target_curve, distance = align(curve, target_curve)\n",
    "aligned_optimized_curve, aligned_target_curve_optimiz, optimized_distance = align(optimized_curve, target_curve)\n",
    "\n",
    "print(f'Initial Distance between curves: {distance:.4f}')\n",
    "print(f'Optimized Distance between curves: {optimized_distance:.4f}')\n",
    "\n",
    "plt.figure(figsize=(10,3))\n",
    "plt.subplot(1,2,1)\n",
    "plt.plot(aligned_curve[:,0], aligned_curve[:,1], label='Initial')\n",
    "plt.plot(aligned_target_curve[:,0], aligned_target_curve[:,1], label='Target')\n",
    "plt.title('Before Optimization')\n",
    "plt.axis('equal')\n",
    "plt.axis('off')\n",
    "plt.legend()\n",
    "\n",
    "plt.subplot(1,2,2)\n",
    "plt.plot(aligned_optimized_curve[:,0], aligned_optimized_curve[:,1], label='Optimized')\n",
    "plt.plot(aligned_target_curve_optimiz[:,0], aligned_target_curve_optimiz[:,1], label='Target')\n",
    "plt.title('After Optimization')\n",
    "plt.axis('equal')\n",
    "plt.axis('off')\n",
    "plt.legend()\n",
    "plt.show()"
   ]
  },
  {
   "cell_type": "markdown",
   "id": "29d4eba2",
   "metadata": {},
   "source": [
    "Now lets see the best solution for the second objective of material use (we will plot the best distance mechanism for size reference):"
   ]
  },
  {
   "cell_type": "code",
   "execution_count": null,
   "id": "e8cb6551",
   "metadata": {},
   "outputs": [],
   "source": [
    "if results.X.ndim >1:\n",
    "    best_x0_m = results.X[np.argmin(results.F[:,1])].reshape(-1,2)    \n",
    "else:\n",
    "    best_x0_m = results.X.reshape(-1,2)\n",
    "\n",
    "# for reference to size we will plot the best distance solution too\n",
    "visualizer(best_x0_m + [[2.0,0.0]], edges, fixed_joints, motor, ax=plt.gca())\n",
    "visualizer(best_x0, edges, fixed_joints, motor, ax=plt.gca())\n",
    "plt.title('Best Material Use (Right) and Best Distance (Left) Solutions')\n",
    "\n",
    "\n",
    "initial_curve = solver(x0, edges, fixed_joints, motor)[-1]\n",
    "optimized_curve = solver(best_x0_m, edges, fixed_joints, motor)[-1]\n",
    "\n",
    "aligned_curve, aligned_target_curve, distance = align(curve, target_curve)\n",
    "aligned_optimized_curve, aligned_target_curve_optimiz, optimized_distance = align(optimized_curve, target_curve)\n",
    "\n",
    "plt.figure(figsize=(10,3))\n",
    "plt.subplot(1,2,1)\n",
    "plt.plot(aligned_curve[:,0], aligned_curve[:,1], label='Initial')\n",
    "plt.plot(aligned_target_curve[:,0], aligned_target_curve[:,1], label='Target')\n",
    "plt.title('Before Optimization')\n",
    "plt.axis('equal')\n",
    "plt.axis('off')\n",
    "plt.legend()\n",
    "\n",
    "plt.subplot(1,2,2)\n",
    "plt.plot(aligned_optimized_curve[:,0], aligned_optimized_curve[:,1], label='Optimized')\n",
    "plt.plot(aligned_target_curve_optimiz[:,0], aligned_target_curve_optimiz[:,1], label='Target')\n",
    "plt.title('After Optimization')\n",
    "plt.axis('equal')\n",
    "plt.axis('off')\n",
    "plt.legend()\n",
    "plt.show()"
   ]
  },
  {
   "cell_type": "markdown",
   "id": "f9c59f8c",
   "metadata": {},
   "source": [
    "We can see that the lowest material mechanism is much smaller but is not matching the target curve very well. This is expected as less material used will mean that the resulting curve is not going to match the scale of the target curve."
   ]
  },
  {
   "cell_type": "markdown",
   "id": "cf56b080",
   "metadata": {},
   "source": [
    "**Reflection 2: Up to this point we used the original four-bar mechanism we defined. But this mechanism is simple and cannot solve more complex target curves. Come up with a different and more complex mechanism configuration and try running this demo again. Explain your observations (30s)**"
   ]
  },
  {
   "cell_type": "code",
   "execution_count": null,
   "id": "0fab283f",
   "metadata": {},
   "outputs": [],
   "source": [
    "# Here is an example mechanism that is more complex. If you couldn't come up with your own, you can use this one.\n",
    "\n",
    "x0 = np.array([[0.39 , 0.546],\n",
    "               [0.647, 0.541],\n",
    "               [0.39 , 0.619],\n",
    "               [0.652, 0.678],\n",
    "               [0.497, 0.38 ],\n",
    "               [0.645, 0.431],\n",
    "               [0.871, 0.707],\n",
    "               [0.652, 0.781],\n",
    "               [0.397, 0.794]])\n",
    "\n",
    "edges = np.array([[0,2],\n",
    "                  [1,3],\n",
    "                  [2,3],\n",
    "                  [2,4],\n",
    "                  [2,8],\n",
    "                  [3,4],\n",
    "                  [3,5],\n",
    "                  [4,5],\n",
    "                  [5,7],\n",
    "                  [6,7],\n",
    "                  [7,8]])\n",
    "\n",
    "fixed_joints = np.array([0,1,6])\n",
    "motor = np.array([0,2])"
   ]
  }
 ],
 "metadata": {
  "kernelspec": {
   "display_name": "LInKFormer",
   "language": "python",
   "name": "python3"
  },
  "language_info": {
   "codemirror_mode": {
    "name": "ipython",
    "version": 3
   },
   "file_extension": ".py",
   "mimetype": "text/x-python",
   "name": "python",
   "nbconvert_exporter": "python",
   "pygments_lexer": "ipython3",
   "version": "3.10.17"
  }
 },
 "nbformat": 4,
 "nbformat_minor": 5
}
